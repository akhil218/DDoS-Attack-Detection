{
  "nbformat": 4,
  "nbformat_minor": 0,
  "metadata": {
    "colab": {
      "name": "ddosGaussian.ipynb",
      "provenance": [],
      "collapsed_sections": [],
      "authorship_tag": "ABX9TyPKCxQQw6+coYLLd99rfpZx"
    },
    "kernelspec": {
      "name": "python3",
      "display_name": "Python 3"
    },
    "language_info": {
      "name": "python"
    }
  },
  "cells": [
    {
      "cell_type": "code",
      "metadata": {
        "colab": {
          "base_uri": "https://localhost:8080/"
        },
        "id": "fgxXvAmaPz_3",
        "outputId": "a726179c-712d-471b-e0ef-bccd5a77b03b"
      },
      "source": [
        "from google.colab import drive\n",
        "drive.mount('/content/drive')"
      ],
      "execution_count": null,
      "outputs": [
        {
          "output_type": "stream",
          "text": [
            "Drive already mounted at /content/drive; to attempt to forcibly remount, call drive.mount(\"/content/drive\", force_remount=True).\n"
          ],
          "name": "stdout"
        }
      ]
    },
    {
      "cell_type": "code",
      "metadata": {
        "colab": {
          "base_uri": "https://localhost:8080/"
        },
        "id": "zMB8hQyUQHig",
        "outputId": "230df1dd-3c87-4c02-8eb3-73f26a1f9a23"
      },
      "source": [
        "%cd /content/drive/My Drive/Colab Notebooks/Capgemini Internship"
      ],
      "execution_count": null,
      "outputs": [
        {
          "output_type": "stream",
          "text": [
            "/content/drive/My Drive/Colab Notebooks\n"
          ],
          "name": "stdout"
        }
      ]
    },
    {
      "cell_type": "code",
      "metadata": {
        "id": "amaEVAzAQI3i"
      },
      "source": [
        "import pandas as pd\n",
        "import numpy as np\n",
        "from sklearn.model_selection import train_test_split\n",
        "from sklearn.metrics import accuracy_score\n",
        "from sklearn.naive_bayes import GaussianNB\n",
        "import seaborn as sns"
      ],
      "execution_count": null,
      "outputs": []
    },
    {
      "cell_type": "code",
      "metadata": {
        "id": "xG5gnhNfQKRo"
      },
      "source": [
        "features = [\n",
        "            \"SRC_ADD\",\n",
        "            \"PKT_ID\",\n",
        "            \"TO_NODE\",\n",
        "            \"PKT_SIZE\",\n",
        "            \"NUMBER_OF_PKT\",\n",
        "            \"NUMBER_OF_BYTE\",\n",
        "            \"PKT_RATE\",\n",
        "            \"PKT_AVG_SIZE\",\n",
        "            \"PKT_CLASS\",\n",
        "            \"Timestamp\"\n",
        "]"
      ],
      "execution_count": null,
      "outputs": []
    },
    {
      "cell_type": "code",
      "metadata": {
        "id": "isweujmIQL5H"
      },
      "source": [
        "dtypes = {\n",
        "    \"SRC_ADD\": \"float\",\n",
        "    \"PKT_ID\": \"int\",\n",
        "    \"TO_NODE\": \"int\",\n",
        "    \"PKT_SIZE\": \"int\",\n",
        "    \"NUMBER_OF_PKT\": \"int\",\n",
        "    \"NUMBER_OF_BYTE\": \"int\",\n",
        "    \"PKT_RATE\": \"float\",\n",
        "    \"BYTE_RATE\": \"float\",\n",
        "    \"PKT_AVG_SIZE\": \"float\",\n",
        "    \"PKT_CLASS\": \"str\"\n",
        "}\n",
        "date_columns = [\"Timestamp\"]"
      ],
      "execution_count": null,
      "outputs": []
    },
    {
      "cell_type": "code",
      "metadata": {
        "id": "ZxyrgrzaQNca"
      },
      "source": [
        "df = pd.read_csv(\"final_dataset1.csv\", usecols=features, dtype=dtypes, parse_dates=date_columns, index_col=None)"
      ],
      "execution_count": null,
      "outputs": []
    },
    {
      "cell_type": "code",
      "metadata": {
        "colab": {
          "base_uri": "https://localhost:8080/"
        },
        "id": "S6szlBcrQPL5",
        "outputId": "aaa873e6-8c8b-4295-887a-341d912ab041"
      },
      "source": [
        "df['PKT_CLASS'].value_counts()"
      ],
      "execution_count": null,
      "outputs": [
        {
          "output_type": "execute_result",
          "data": {
            "text/plain": [
              "Normal        447979\n",
              "UDP-Flood      46451\n",
              "Smurf           3027\n",
              "SIDDOS          1547\n",
              "HTTP-FLOOD       996\n",
              "Name: PKT_CLASS, dtype: int64"
            ]
          },
          "metadata": {
            "tags": []
          },
          "execution_count": 8
        }
      ]
    },
    {
      "cell_type": "code",
      "metadata": {
        "colab": {
          "base_uri": "https://localhost:8080/",
          "height": 204
        },
        "id": "kJuCI8djQQ59",
        "outputId": "02a5c716-7353-4d1b-f607-ab32112914c3"
      },
      "source": [
        "df.head()"
      ],
      "execution_count": null,
      "outputs": [
        {
          "output_type": "execute_result",
          "data": {
            "text/html": [
              "<div>\n",
              "<style scoped>\n",
              "    .dataframe tbody tr th:only-of-type {\n",
              "        vertical-align: middle;\n",
              "    }\n",
              "\n",
              "    .dataframe tbody tr th {\n",
              "        vertical-align: top;\n",
              "    }\n",
              "\n",
              "    .dataframe thead th {\n",
              "        text-align: right;\n",
              "    }\n",
              "</style>\n",
              "<table border=\"1\" class=\"dataframe\">\n",
              "  <thead>\n",
              "    <tr style=\"text-align: right;\">\n",
              "      <th></th>\n",
              "      <th>SRC_ADD</th>\n",
              "      <th>PKT_ID</th>\n",
              "      <th>TO_NODE</th>\n",
              "      <th>PKT_SIZE</th>\n",
              "      <th>NUMBER_OF_PKT</th>\n",
              "      <th>NUMBER_OF_BYTE</th>\n",
              "      <th>PKT_RATE</th>\n",
              "      <th>PKT_AVG_SIZE</th>\n",
              "      <th>PKT_CLASS</th>\n",
              "      <th>Timestamp</th>\n",
              "    </tr>\n",
              "  </thead>\n",
              "  <tbody>\n",
              "    <tr>\n",
              "      <th>0</th>\n",
              "      <td>3.00</td>\n",
              "      <td>389693</td>\n",
              "      <td>23</td>\n",
              "      <td>1540</td>\n",
              "      <td>16091</td>\n",
              "      <td>24780100</td>\n",
              "      <td>328.24</td>\n",
              "      <td>1540.0</td>\n",
              "      <td>Normal</td>\n",
              "      <td>2018-02-22 00:27:57</td>\n",
              "    </tr>\n",
              "    <tr>\n",
              "      <th>1</th>\n",
              "      <td>15.00</td>\n",
              "      <td>201196</td>\n",
              "      <td>24</td>\n",
              "      <td>1540</td>\n",
              "      <td>16092</td>\n",
              "      <td>24781700</td>\n",
              "      <td>328.21</td>\n",
              "      <td>1540.0</td>\n",
              "      <td>Normal</td>\n",
              "      <td>2018-02-16 23:18:14</td>\n",
              "    </tr>\n",
              "    <tr>\n",
              "      <th>2</th>\n",
              "      <td>24.15</td>\n",
              "      <td>61905</td>\n",
              "      <td>22</td>\n",
              "      <td>55</td>\n",
              "      <td>16092</td>\n",
              "      <td>885060</td>\n",
              "      <td>328.21</td>\n",
              "      <td>55.0</td>\n",
              "      <td>UDP-Flood</td>\n",
              "      <td>2018-02-16 23:23:20</td>\n",
              "    </tr>\n",
              "    <tr>\n",
              "      <th>3</th>\n",
              "      <td>24.90</td>\n",
              "      <td>443135</td>\n",
              "      <td>21</td>\n",
              "      <td>55</td>\n",
              "      <td>16085</td>\n",
              "      <td>884675</td>\n",
              "      <td>328.06</td>\n",
              "      <td>55.0</td>\n",
              "      <td>Normal</td>\n",
              "      <td>2018-02-16 23:22:41</td>\n",
              "    </tr>\n",
              "    <tr>\n",
              "      <th>4</th>\n",
              "      <td>24.80</td>\n",
              "      <td>157335</td>\n",
              "      <td>21</td>\n",
              "      <td>55</td>\n",
              "      <td>16088</td>\n",
              "      <td>884840</td>\n",
              "      <td>328.11</td>\n",
              "      <td>55.0</td>\n",
              "      <td>Normal</td>\n",
              "      <td>2018-02-21 23:49:25</td>\n",
              "    </tr>\n",
              "  </tbody>\n",
              "</table>\n",
              "</div>"
            ],
            "text/plain": [
              "   SRC_ADD  PKT_ID  TO_NODE  ...  PKT_AVG_SIZE  PKT_CLASS           Timestamp\n",
              "0     3.00  389693       23  ...        1540.0     Normal 2018-02-22 00:27:57\n",
              "1    15.00  201196       24  ...        1540.0     Normal 2018-02-16 23:18:14\n",
              "2    24.15   61905       22  ...          55.0  UDP-Flood 2018-02-16 23:23:20\n",
              "3    24.90  443135       21  ...          55.0     Normal 2018-02-16 23:22:41\n",
              "4    24.80  157335       21  ...          55.0     Normal 2018-02-21 23:49:25\n",
              "\n",
              "[5 rows x 10 columns]"
            ]
          },
          "metadata": {
            "tags": []
          },
          "execution_count": 9
        }
      ]
    },
    {
      "cell_type": "code",
      "metadata": {
        "id": "_you7XdiQSny"
      },
      "source": [
        "df2 = df.sort_values(\"Timestamp\")\n",
        "df3 = df2.drop(columns=[\"Timestamp\"])"
      ],
      "execution_count": null,
      "outputs": []
    },
    {
      "cell_type": "code",
      "metadata": {
        "id": "8XLLsyGzQUG1"
      },
      "source": [
        "l = len(df3.index)\n",
        "train_df = df3.head(int(l * 0.7))\n",
        "test_df = df3.tail(int(l * 0.3))"
      ],
      "execution_count": null,
      "outputs": []
    },
    {
      "cell_type": "code",
      "metadata": {
        "id": "vNqX_0MuQYPx"
      },
      "source": [
        "y_train = train_df.pop(\"PKT_CLASS\").values\n",
        "y_test = test_df.pop(\"PKT_CLASS\").values"
      ],
      "execution_count": null,
      "outputs": []
    },
    {
      "cell_type": "code",
      "metadata": {
        "id": "0ut3YEMFQZ8a"
      },
      "source": [
        "X_train = train_df.values\n",
        "X_test = test_df.values"
      ],
      "execution_count": null,
      "outputs": []
    },
    {
      "cell_type": "code",
      "metadata": {
        "colab": {
          "base_uri": "https://localhost:8080/"
        },
        "id": "Ala2F2zSQbbS",
        "outputId": "e37cb131-9a9b-48ae-d4f6-4ccfe1acfebb"
      },
      "source": [
        "from imblearn.over_sampling import SMOTE\n",
        "smote = SMOTE()"
      ],
      "execution_count": null,
      "outputs": [
        {
          "output_type": "stream",
          "text": [
            "/usr/local/lib/python3.7/dist-packages/sklearn/externals/six.py:31: FutureWarning: The module is deprecated in version 0.21 and will be removed in version 0.23 since we've dropped support for Python 2.7. Please rely on the official version of six (https://pypi.org/project/six/).\n",
            "  \"(https://pypi.org/project/six/).\", FutureWarning)\n",
            "/usr/local/lib/python3.7/dist-packages/sklearn/utils/deprecation.py:144: FutureWarning: The sklearn.neighbors.base module is  deprecated in version 0.22 and will be removed in version 0.24. The corresponding classes / functions should instead be imported from sklearn.neighbors. Anything that cannot be imported from sklearn.neighbors is now part of the private API.\n",
            "  warnings.warn(message, FutureWarning)\n"
          ],
          "name": "stderr"
        }
      ]
    },
    {
      "cell_type": "code",
      "metadata": {
        "colab": {
          "base_uri": "https://localhost:8080/"
        },
        "id": "xaoXp-_WQc3v",
        "outputId": "e7cf2b4c-d54c-439f-dd57-feb6833c3954"
      },
      "source": [
        "x_train_smote, y_train_smote = smote.fit_sample(X_train, y_train)"
      ],
      "execution_count": null,
      "outputs": [
        {
          "output_type": "stream",
          "text": [
            "/usr/local/lib/python3.7/dist-packages/sklearn/utils/deprecation.py:87: FutureWarning: Function safe_indexing is deprecated; safe_indexing is deprecated in version 0.22 and will be removed in version 0.24.\n",
            "  warnings.warn(msg, category=FutureWarning)\n",
            "/usr/local/lib/python3.7/dist-packages/sklearn/utils/deprecation.py:87: FutureWarning: Function safe_indexing is deprecated; safe_indexing is deprecated in version 0.22 and will be removed in version 0.24.\n",
            "  warnings.warn(msg, category=FutureWarning)\n",
            "/usr/local/lib/python3.7/dist-packages/sklearn/utils/deprecation.py:87: FutureWarning: Function safe_indexing is deprecated; safe_indexing is deprecated in version 0.22 and will be removed in version 0.24.\n",
            "  warnings.warn(msg, category=FutureWarning)\n",
            "/usr/local/lib/python3.7/dist-packages/sklearn/utils/deprecation.py:87: FutureWarning: Function safe_indexing is deprecated; safe_indexing is deprecated in version 0.22 and will be removed in version 0.24.\n",
            "  warnings.warn(msg, category=FutureWarning)\n"
          ],
          "name": "stderr"
        }
      ]
    },
    {
      "cell_type": "code",
      "metadata": {
        "colab": {
          "base_uri": "https://localhost:8080/"
        },
        "id": "Vbh1BPmcQddW",
        "outputId": "ddcb5a3f-59ce-4442-f57e-cdad357fe6de"
      },
      "source": [
        "from collections import Counter\n",
        "print(\"Data with SMOTE : \" , Counter(y_train_smote))"
      ],
      "execution_count": null,
      "outputs": [
        {
          "output_type": "stream",
          "text": [
            "Data with SMOTE :  Counter({'Normal': 313530, 'UDP-Flood': 313530, 'Smurf': 313530, 'HTTP-FLOOD': 313530, 'SIDDOS': 313530})\n"
          ],
          "name": "stdout"
        }
      ]
    },
    {
      "cell_type": "code",
      "metadata": {
        "colab": {
          "base_uri": "https://localhost:8080/"
        },
        "id": "kiKoLU90Qfdk",
        "outputId": "65841e38-0b5b-4ea8-e560-13beec88ff44"
      },
      "source": [
        "clf=GaussianNB()\n",
        "clf.fit(x_train_smote, y_train_smote)\n",
        "y_predict = clf.predict(X_train)\n",
        "print(accuracy_score(y_train, y_predict))"
      ],
      "execution_count": null,
      "outputs": [
        {
          "output_type": "stream",
          "text": [
            "0.9645257142857143\n"
          ],
          "name": "stdout"
        }
      ]
    },
    {
      "cell_type": "code",
      "metadata": {
        "id": "L8qKsN3sRarF"
      },
      "source": [
        "data = pd.read_csv(\"sampledddos.csv\", usecols=features, dtype=dtypes, parse_dates=date_columns, index_col=None)"
      ],
      "execution_count": null,
      "outputs": []
    },
    {
      "cell_type": "code",
      "metadata": {
        "colab": {
          "base_uri": "https://localhost:8080/"
        },
        "id": "M1xwLzEZRdw2",
        "outputId": "3803c110-6f85-47ce-92d5-9bdc9843621a"
      },
      "source": [
        "data['PKT_CLASS'].value_counts()"
      ],
      "execution_count": null,
      "outputs": [
        {
          "output_type": "execute_result",
          "data": {
            "text/plain": [
              "HTTP-FLOOD    900\n",
              "Normal        900\n",
              "Smurf         900\n",
              "SIDDOS        900\n",
              "UDP-Flood     900\n",
              "Name: PKT_CLASS, dtype: int64"
            ]
          },
          "metadata": {
            "tags": []
          },
          "execution_count": 20
        }
      ]
    },
    {
      "cell_type": "code",
      "metadata": {
        "id": "w-13bgZuRfDL"
      },
      "source": [
        "data2 = data.sort_values(\"Timestamp\")\n",
        "data3 = data2.drop(columns=[\"Timestamp\"])"
      ],
      "execution_count": null,
      "outputs": []
    },
    {
      "cell_type": "code",
      "metadata": {
        "id": "pvOZyDFTRgnv"
      },
      "source": [
        "l1 = len(data.index)\n",
        "trains_data3 = data3.head(int(l * 0.7))\n",
        "tests_data3 = data3.tail(int(l * 0.3))"
      ],
      "execution_count": null,
      "outputs": []
    },
    {
      "cell_type": "code",
      "metadata": {
        "id": "FfJW-3eORhI3"
      },
      "source": [
        "y_trains = trains_data3.pop(\"PKT_CLASS\").values\n",
        "y_tests = tests_data3.pop(\"PKT_CLASS\").values"
      ],
      "execution_count": null,
      "outputs": []
    },
    {
      "cell_type": "code",
      "metadata": {
        "id": "FyWpf60wRjzX"
      },
      "source": [
        "X_trains = trains_data3.values\n",
        "X_tests = tests_data3.values"
      ],
      "execution_count": null,
      "outputs": []
    },
    {
      "cell_type": "code",
      "metadata": {
        "colab": {
          "base_uri": "https://localhost:8080/"
        },
        "id": "-LcbN5xsRlMD",
        "outputId": "bf7dbaf4-7df7-45a7-9928-5d3458f7b788"
      },
      "source": [
        "clfs = GaussianNB()\n",
        "clfs.fit(X_trains, y_trains)\n",
        "y_predicts = clf.predict(X_trains)\n",
        "print(accuracy_score(y_trains, y_predicts))"
      ],
      "execution_count": null,
      "outputs": [
        {
          "output_type": "stream",
          "text": [
            "0.7548888888888889\n"
          ],
          "name": "stdout"
        }
      ]
    }
  ]
}
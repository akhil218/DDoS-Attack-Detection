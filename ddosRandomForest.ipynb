{
  "nbformat": 4,
  "nbformat_minor": 0,
  "metadata": {
    "colab": {
      "name": "ddosRandomForest.ipynb",
      "provenance": [],
      "collapsed_sections": [],
      "authorship_tag": "ABX9TyMwiPVo9JuhaD8CIwdOu5LF"
    },
    "kernelspec": {
      "display_name": "Python 3",
      "name": "python3"
    },
    "language_info": {
      "name": "python"
    }
  },
  "cells": [
    {
      "cell_type": "code",
      "metadata": {
        "colab": {
          "base_uri": "https://localhost:8080/"
        },
        "id": "ygCwCf55qt1Y",
        "outputId": "159de0bf-1cbb-4ca9-d0c2-b30e57788ac4"
      },
      "source": [
        "from google.colab import drive\n",
        "drive.mount('/content/drive')"
      ],
      "execution_count": null,
      "outputs": [
        {
          "output_type": "stream",
          "name": "stdout",
          "text": [
            "Mounted at /content/drive\n"
          ]
        }
      ]
    },
    {
      "cell_type": "code",
      "metadata": {
        "colab": {
          "base_uri": "https://localhost:8080/"
        },
        "id": "LaEUNgwtqv62",
        "outputId": "325c1c08-8367-4c87-9abc-fb59f2079071"
      },
      "source": [
        "%cd /content/drive/My Drive/Colab Notebooks/Capgemini Internship"
      ],
      "execution_count": null,
      "outputs": [
        {
          "output_type": "stream",
          "name": "stdout",
          "text": [
            "/content/drive/My Drive/Colab Notebooks/Capgemini Internship\n"
          ]
        }
      ]
    },
    {
      "cell_type": "code",
      "metadata": {
        "id": "T7vLee-Fqv4Y"
      },
      "source": [
        "import pandas as pd\n",
        "import numpy as np\n",
        "from sklearn.model_selection import train_test_split\n",
        "from sklearn.metrics import accuracy_score\n",
        "from sklearn.ensemble import RandomForestClassifier\n",
        "import seaborn as sns"
      ],
      "execution_count": null,
      "outputs": []
    },
    {
      "cell_type": "code",
      "metadata": {
        "id": "mCSVkog-qv2D"
      },
      "source": [
        "features = [\n",
        "            \"SRC_ADD\",\n",
        "            \"PKT_ID\",\n",
        "            \"TO_NODE\",\n",
        "            \"PKT_SIZE\",\n",
        "            \"NUMBER_OF_PKT\",\n",
        "            \"NUMBER_OF_BYTE\",\n",
        "            \"PKT_RATE\",\n",
        "            \"PKT_AVG_SIZE\",\n",
        "            \"PKT_CLASS\",\n",
        "            \"Timestamp\"\n",
        "]"
      ],
      "execution_count": null,
      "outputs": []
    },
    {
      "cell_type": "code",
      "metadata": {
        "id": "hAGCV83Oqvzl"
      },
      "source": [
        "dtypes = {\n",
        "    \"SRC_ADD\": \"float\",\n",
        "    \"PKT_ID\": \"int\",\n",
        "    \"TO_NODE\": \"int\",\n",
        "    \"PKT_SIZE\": \"int\",\n",
        "    \"NUMBER_OF_PKT\": \"int\",\n",
        "    \"NUMBER_OF_BYTE\": \"int\",\n",
        "    \"PKT_RATE\": \"float\",\n",
        "    \"BYTE_RATE\": \"float\",\n",
        "    \"PKT_AVG_SIZE\": \"float\",\n",
        "    \"PKT_CLASS\": \"str\"\n",
        "}\n",
        "date_columns = [\"Timestamp\"]"
      ],
      "execution_count": null,
      "outputs": []
    },
    {
      "cell_type": "code",
      "metadata": {
        "id": "MVU0vCVDvZRS"
      },
      "source": [
        "df = pd.read_csv(\"final_dataset1.csv\", usecols=features, dtype=dtypes, parse_dates=date_columns, index_col=None)"
      ],
      "execution_count": null,
      "outputs": []
    },
    {
      "cell_type": "code",
      "metadata": {
        "colab": {
          "base_uri": "https://localhost:8080/"
        },
        "id": "tJaKzhgKQGUN",
        "outputId": "9905af56-9ae8-4d0b-8589-0df188b2c830"
      },
      "source": [
        "df['PKT_CLASS'].value_counts()"
      ],
      "execution_count": null,
      "outputs": [
        {
          "output_type": "execute_result",
          "data": {
            "text/plain": [
              "Normal        447979\n",
              "UDP-Flood      46451\n",
              "Smurf           3027\n",
              "SIDDOS          1547\n",
              "HTTP-FLOOD       996\n",
              "Name: PKT_CLASS, dtype: int64"
            ]
          },
          "metadata": {
            "tags": []
          },
          "execution_count": 7
        }
      ]
    },
    {
      "cell_type": "code",
      "metadata": {
        "id": "kySpU7ke4g-y",
        "colab": {
          "base_uri": "https://localhost:8080/",
          "height": 204
        },
        "outputId": "31af0114-bfec-4363-8525-44a71d042c2e"
      },
      "source": [
        "df.head()"
      ],
      "execution_count": null,
      "outputs": [
        {
          "output_type": "execute_result",
          "data": {
            "text/html": [
              "<div>\n",
              "<style scoped>\n",
              "    .dataframe tbody tr th:only-of-type {\n",
              "        vertical-align: middle;\n",
              "    }\n",
              "\n",
              "    .dataframe tbody tr th {\n",
              "        vertical-align: top;\n",
              "    }\n",
              "\n",
              "    .dataframe thead th {\n",
              "        text-align: right;\n",
              "    }\n",
              "</style>\n",
              "<table border=\"1\" class=\"dataframe\">\n",
              "  <thead>\n",
              "    <tr style=\"text-align: right;\">\n",
              "      <th></th>\n",
              "      <th>SRC_ADD</th>\n",
              "      <th>PKT_ID</th>\n",
              "      <th>TO_NODE</th>\n",
              "      <th>PKT_SIZE</th>\n",
              "      <th>NUMBER_OF_PKT</th>\n",
              "      <th>NUMBER_OF_BYTE</th>\n",
              "      <th>PKT_RATE</th>\n",
              "      <th>PKT_AVG_SIZE</th>\n",
              "      <th>PKT_CLASS</th>\n",
              "      <th>Timestamp</th>\n",
              "    </tr>\n",
              "  </thead>\n",
              "  <tbody>\n",
              "    <tr>\n",
              "      <th>0</th>\n",
              "      <td>3.00</td>\n",
              "      <td>389693</td>\n",
              "      <td>23</td>\n",
              "      <td>1540</td>\n",
              "      <td>16091</td>\n",
              "      <td>24780100</td>\n",
              "      <td>328.24</td>\n",
              "      <td>1540.0</td>\n",
              "      <td>Normal</td>\n",
              "      <td>2018-02-22 00:27:57</td>\n",
              "    </tr>\n",
              "    <tr>\n",
              "      <th>1</th>\n",
              "      <td>15.00</td>\n",
              "      <td>201196</td>\n",
              "      <td>24</td>\n",
              "      <td>1540</td>\n",
              "      <td>16092</td>\n",
              "      <td>24781700</td>\n",
              "      <td>328.21</td>\n",
              "      <td>1540.0</td>\n",
              "      <td>Normal</td>\n",
              "      <td>2018-02-16 23:18:14</td>\n",
              "    </tr>\n",
              "    <tr>\n",
              "      <th>2</th>\n",
              "      <td>24.15</td>\n",
              "      <td>61905</td>\n",
              "      <td>22</td>\n",
              "      <td>55</td>\n",
              "      <td>16092</td>\n",
              "      <td>885060</td>\n",
              "      <td>328.21</td>\n",
              "      <td>55.0</td>\n",
              "      <td>UDP-Flood</td>\n",
              "      <td>2018-02-16 23:23:20</td>\n",
              "    </tr>\n",
              "    <tr>\n",
              "      <th>3</th>\n",
              "      <td>24.90</td>\n",
              "      <td>443135</td>\n",
              "      <td>21</td>\n",
              "      <td>55</td>\n",
              "      <td>16085</td>\n",
              "      <td>884675</td>\n",
              "      <td>328.06</td>\n",
              "      <td>55.0</td>\n",
              "      <td>Normal</td>\n",
              "      <td>2018-02-16 23:22:41</td>\n",
              "    </tr>\n",
              "    <tr>\n",
              "      <th>4</th>\n",
              "      <td>24.80</td>\n",
              "      <td>157335</td>\n",
              "      <td>21</td>\n",
              "      <td>55</td>\n",
              "      <td>16088</td>\n",
              "      <td>884840</td>\n",
              "      <td>328.11</td>\n",
              "      <td>55.0</td>\n",
              "      <td>Normal</td>\n",
              "      <td>2018-02-21 23:49:25</td>\n",
              "    </tr>\n",
              "  </tbody>\n",
              "</table>\n",
              "</div>"
            ],
            "text/plain": [
              "   SRC_ADD  PKT_ID  TO_NODE  ...  PKT_AVG_SIZE  PKT_CLASS           Timestamp\n",
              "0     3.00  389693       23  ...        1540.0     Normal 2018-02-22 00:27:57\n",
              "1    15.00  201196       24  ...        1540.0     Normal 2018-02-16 23:18:14\n",
              "2    24.15   61905       22  ...          55.0  UDP-Flood 2018-02-16 23:23:20\n",
              "3    24.90  443135       21  ...          55.0     Normal 2018-02-16 23:22:41\n",
              "4    24.80  157335       21  ...          55.0     Normal 2018-02-21 23:49:25\n",
              "\n",
              "[5 rows x 10 columns]"
            ]
          },
          "metadata": {
            "tags": []
          },
          "execution_count": 8
        }
      ]
    },
    {
      "cell_type": "code",
      "metadata": {
        "id": "vUAttIhXRmxe"
      },
      "source": [
        "df2 = df.sort_values(\"Timestamp\")"
      ],
      "execution_count": null,
      "outputs": []
    },
    {
      "cell_type": "code",
      "metadata": {
        "id": "fWEtunkTXMtq"
      },
      "source": [
        "df3 = df2.drop(columns=[\"Timestamp\"])"
      ],
      "execution_count": null,
      "outputs": []
    },
    {
      "cell_type": "code",
      "metadata": {
        "id": "6w-qKEODXuPk"
      },
      "source": [
        "l = len(df3.index)\n",
        "train_df = df3.head(int(l * 0.7))\n",
        "test_df = df3.tail(int(l * 0.3))"
      ],
      "execution_count": null,
      "outputs": []
    },
    {
      "cell_type": "code",
      "metadata": {
        "id": "Y7odoF-4YGjK"
      },
      "source": [
        "y_train = train_df.pop(\"PKT_CLASS\").values\n",
        "y_test = test_df.pop(\"PKT_CLASS\").values"
      ],
      "execution_count": null,
      "outputs": []
    },
    {
      "cell_type": "code",
      "metadata": {
        "id": "SouOLpWCYkhg"
      },
      "source": [
        "X_train = train_df.values\n",
        "X_test = test_df.values"
      ],
      "execution_count": null,
      "outputs": []
    },
    {
      "cell_type": "markdown",
      "metadata": {
        "id": "uI8D9pEqXg0S"
      },
      "source": [
        "**SMOTE**\n",
        "\n",
        "*   .....\n",
        "*   .....\n"
      ]
    },
    {
      "cell_type": "code",
      "metadata": {
        "id": "AClsNnnAPD3p",
        "colab": {
          "base_uri": "https://localhost:8080/"
        },
        "outputId": "8d31df21-b111-44ab-ce64-f9d895e0b955"
      },
      "source": [
        "from imblearn.over_sampling import SMOTE\n",
        "smote = SMOTE()"
      ],
      "execution_count": null,
      "outputs": [
        {
          "output_type": "stream",
          "text": [
            "/usr/local/lib/python3.7/dist-packages/sklearn/externals/six.py:31: FutureWarning: The module is deprecated in version 0.21 and will be removed in version 0.23 since we've dropped support for Python 2.7. Please rely on the official version of six (https://pypi.org/project/six/).\n",
            "  \"(https://pypi.org/project/six/).\", FutureWarning)\n",
            "/usr/local/lib/python3.7/dist-packages/sklearn/utils/deprecation.py:144: FutureWarning: The sklearn.neighbors.base module is  deprecated in version 0.22 and will be removed in version 0.24. The corresponding classes / functions should instead be imported from sklearn.neighbors. Anything that cannot be imported from sklearn.neighbors is now part of the private API.\n",
            "  warnings.warn(message, FutureWarning)\n"
          ],
          "name": "stderr"
        }
      ]
    },
    {
      "cell_type": "code",
      "metadata": {
        "colab": {
          "base_uri": "https://localhost:8080/"
        },
        "id": "z46UYy1rPNIm",
        "outputId": "2d859b01-246c-49a0-db70-55e857f8bcb4"
      },
      "source": [
        "x_train_smote, y_train_smote = smote.fit_sample(X_train, y_train)"
      ],
      "execution_count": null,
      "outputs": [
        {
          "output_type": "stream",
          "text": [
            "/usr/local/lib/python3.7/dist-packages/sklearn/utils/deprecation.py:87: FutureWarning: Function safe_indexing is deprecated; safe_indexing is deprecated in version 0.22 and will be removed in version 0.24.\n",
            "  warnings.warn(msg, category=FutureWarning)\n",
            "/usr/local/lib/python3.7/dist-packages/sklearn/utils/deprecation.py:87: FutureWarning: Function safe_indexing is deprecated; safe_indexing is deprecated in version 0.22 and will be removed in version 0.24.\n",
            "  warnings.warn(msg, category=FutureWarning)\n",
            "/usr/local/lib/python3.7/dist-packages/sklearn/utils/deprecation.py:87: FutureWarning: Function safe_indexing is deprecated; safe_indexing is deprecated in version 0.22 and will be removed in version 0.24.\n",
            "  warnings.warn(msg, category=FutureWarning)\n",
            "/usr/local/lib/python3.7/dist-packages/sklearn/utils/deprecation.py:87: FutureWarning: Function safe_indexing is deprecated; safe_indexing is deprecated in version 0.22 and will be removed in version 0.24.\n",
            "  warnings.warn(msg, category=FutureWarning)\n"
          ],
          "name": "stderr"
        }
      ]
    },
    {
      "cell_type": "code",
      "metadata": {
        "colab": {
          "base_uri": "https://localhost:8080/"
        },
        "id": "WC_BZD6ZPiuP",
        "outputId": "5b101e18-b205-4064-e6a9-adb50a9385ad"
      },
      "source": [
        "from collections import Counter\n",
        "print(\"Data with SMOTE : \" , Counter(y_train_smote))"
      ],
      "execution_count": null,
      "outputs": [
        {
          "output_type": "stream",
          "text": [
            "Data with SMOTE :  Counter({'Normal': 313530, 'UDP-Flood': 313530, 'Smurf': 313530, 'HTTP-FLOOD': 313530, 'SIDDOS': 313530})\n"
          ],
          "name": "stdout"
        }
      ]
    },
    {
      "cell_type": "code",
      "metadata": {
        "colab": {
          "base_uri": "https://localhost:8080/"
        },
        "id": "S7Z8wig5QXBo",
        "outputId": "e9a634c2-b0b8-4f0c-930e-b16b20d8ea32"
      },
      "source": [
        "clf = RandomForestClassifier(n_estimators=50)\n",
        "clf.fit(x_train_smote, y_train_smote)\n",
        "y_predict = clf.predict(X_train)\n",
        "print(accuracy_score(y_train, y_predict))"
      ],
      "execution_count": null,
      "outputs": [
        {
          "output_type": "stream",
          "text": [
            "0.9995257142857142\n"
          ],
          "name": "stdout"
        }
      ]
    },
    {
      "cell_type": "markdown",
      "metadata": {
        "id": "E1TQCa_xXnzn"
      },
      "source": [
        "**Sampled** **Dataset**\n",
        "\n",
        "\n",
        "*   ....\n",
        "*   ...."
      ]
    },
    {
      "cell_type": "code",
      "metadata": {
        "id": "ApwAGz6tXf4i"
      },
      "source": [
        "data = pd.read_csv(\"sampledddos.csv\", usecols=features, dtype=dtypes, parse_dates=date_columns, index_col=None)"
      ],
      "execution_count": null,
      "outputs": []
    },
    {
      "cell_type": "code",
      "metadata": {
        "colab": {
          "base_uri": "https://localhost:8080/"
        },
        "id": "XwqDWt7yXvkl",
        "outputId": "1e0faa9c-3850-42d5-ef2f-ab5a9bc7d87f"
      },
      "source": [
        "data['PKT_CLASS'].value_counts()"
      ],
      "execution_count": null,
      "outputs": [
        {
          "output_type": "execute_result",
          "data": {
            "text/plain": [
              "Normal        900\n",
              "Smurf         900\n",
              "SIDDOS        900\n",
              "HTTP-FLOOD    900\n",
              "UDP-Flood     900\n",
              "Name: PKT_CLASS, dtype: int64"
            ]
          },
          "metadata": {
            "tags": []
          },
          "execution_count": 19
        }
      ]
    },
    {
      "cell_type": "code",
      "metadata": {
        "id": "A3YMfCOiXxwF"
      },
      "source": [
        "data2 = data.sort_values(\"Timestamp\")\n",
        "data3 = data2.drop(columns=[\"Timestamp\"])"
      ],
      "execution_count": null,
      "outputs": []
    },
    {
      "cell_type": "code",
      "metadata": {
        "id": "0oXM7aUdX1I8"
      },
      "source": [
        "l1 = len(data.index)\n",
        "trains_data3 = data3.head(int(l * 0.7))\n",
        "tests_data3 = data3.tail(int(l * 0.3))"
      ],
      "execution_count": null,
      "outputs": []
    },
    {
      "cell_type": "code",
      "metadata": {
        "id": "SoevTeayX29b"
      },
      "source": [
        "y_trains = trains_data3.pop(\"PKT_CLASS\").values\n",
        "y_tests = tests_data3.pop(\"PKT_CLASS\").values"
      ],
      "execution_count": null,
      "outputs": []
    },
    {
      "cell_type": "code",
      "metadata": {
        "id": "gTS3FOCbX44z"
      },
      "source": [
        "X_trains = trains_data3.values\n",
        "X_tests = tests_data3.values"
      ],
      "execution_count": null,
      "outputs": []
    },
    {
      "cell_type": "code",
      "metadata": {
        "colab": {
          "base_uri": "https://localhost:8080/"
        },
        "id": "skvbdxGTX6ZN",
        "outputId": "5540bac4-b3a1-434a-fa16-ab87b4b5dd42"
      },
      "source": [
        "clfs = RandomForestClassifier(n_estimators=50)\n",
        "clfs.fit(X_trains, y_trains)\n",
        "y_predicts = clf.predict(X_trains)\n",
        "print(accuracy_score(y_trains, y_predicts))"
      ],
      "execution_count": null,
      "outputs": [
        {
          "output_type": "stream",
          "text": [
            "0.9986666666666667\n"
          ],
          "name": "stdout"
        }
      ]
    }
  ]
}
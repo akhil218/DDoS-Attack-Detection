{
  "nbformat": 4,
  "nbformat_minor": 0,
  "metadata": {
    "colab": {
      "name": "ddosSVM.ipynb",
      "provenance": [],
      "collapsed_sections": [],
      "authorship_tag": "ABX9TyMncrOuDztU3j/RpFiFcwJi"
    },
    "kernelspec": {
      "name": "python3",
      "display_name": "Python 3"
    },
    "language_info": {
      "name": "python"
    }
  },
  "cells": [
    {
      "cell_type": "code",
      "metadata": {
        "colab": {
          "base_uri": "https://localhost:8080/"
        },
        "id": "xC4AP51411sb",
        "outputId": "576c32c9-0cc3-47c9-e762-baefbe50d5f8"
      },
      "source": [
        "from google.colab import drive\n",
        "drive.mount('/content/drive')"
      ],
      "execution_count": null,
      "outputs": [
        {
          "output_type": "stream",
          "text": [
            "Mounted at /content/drive\n"
          ],
          "name": "stdout"
        }
      ]
    },
    {
      "cell_type": "code",
      "metadata": {
        "colab": {
          "base_uri": "https://localhost:8080/"
        },
        "id": "_AReY3Hi151n",
        "outputId": "ab54d3cc-026f-451c-c471-3e2bac8ad92b"
      },
      "source": [
        "%cd /content/drive/My Drive/Colab Notebooks/Capgemini Internship"
      ],
      "execution_count": null,
      "outputs": [
        {
          "output_type": "stream",
          "text": [
            "/content/drive/My Drive/Colab Notebooks\n"
          ],
          "name": "stdout"
        }
      ]
    },
    {
      "cell_type": "code",
      "metadata": {
        "id": "j-JHMUCR1-E5"
      },
      "source": [
        "import pandas as pd\n",
        "from sklearn import model_selection\n",
        "from sklearn.metrics import accuracy_score\n",
        "from sklearn import svm"
      ],
      "execution_count": null,
      "outputs": []
    },
    {
      "cell_type": "code",
      "metadata": {
        "id": "w6ua467R2CfG"
      },
      "source": [
        "features = [\n",
        "            \"SRC_ADD\",\n",
        "            \"PKT_ID\",\n",
        "            \"TO_NODE\",\n",
        "            \"PKT_SIZE\",\n",
        "            \"NUMBER_OF_PKT\",\n",
        "            \"NUMBER_OF_BYTE\",\n",
        "            \"PKT_RATE\",\n",
        "            \"PKT_AVG_SIZE\",\n",
        "            \"PKT_CLASS\",\n",
        "            \"Timestamp\"\n",
        "]"
      ],
      "execution_count": null,
      "outputs": []
    },
    {
      "cell_type": "code",
      "metadata": {
        "id": "wyjO6xPo3zUE"
      },
      "source": [
        "dtypes = {\n",
        "    \"SRC_ADD\": \"float\",\n",
        "    \"PKT_ID\": \"int\",\n",
        "    \"TO_NODE\": \"int\",\n",
        "    \"PKT_SIZE\": \"int\",\n",
        "    \"NUMBER_OF_PKT\": \"int\",\n",
        "    \"NUMBER_OF_BYTE\": \"int\",\n",
        "    \"PKT_RATE\": \"float\",\n",
        "    \"BYTE_RATE\": \"float\",\n",
        "    \"PKT_AVG_SIZE\": \"float\",\n",
        "    \"PKT_CLASS\": \"str\"\n",
        "}\n",
        "date_columns = [\"Timestamp\"]"
      ],
      "execution_count": null,
      "outputs": []
    },
    {
      "cell_type": "code",
      "metadata": {
        "id": "fz9JTe6d31-e"
      },
      "source": [
        "df = pd.read_csv(\"final_dataset1.csv\", usecols=features, dtype=dtypes, parse_dates=date_columns, index_col=None)"
      ],
      "execution_count": null,
      "outputs": []
    },
    {
      "cell_type": "code",
      "metadata": {
        "id": "XWYciuAz38sY"
      },
      "source": [
        "y=df.loc[:, ['NUMBER_OF_PKT']].values.ravel()"
      ],
      "execution_count": null,
      "outputs": []
    },
    {
      "cell_type": "code",
      "metadata": {
        "id": "gmXpPF9U4Jm8"
      },
      "source": [
        "x=df.loc[:, ['PKT_RATE']].values"
      ],
      "execution_count": null,
      "outputs": []
    },
    {
      "cell_type": "code",
      "metadata": {
        "id": "MOAWcjUR7UwE",
        "colab": {
          "base_uri": "https://localhost:8080/"
        },
        "outputId": "3220c892-8ae2-47b6-fac1-c9ded9173e56"
      },
      "source": [
        "x.shape"
      ],
      "execution_count": null,
      "outputs": [
        {
          "output_type": "execute_result",
          "data": {
            "text/plain": [
              "(500000, 1)"
            ]
          },
          "metadata": {
            "tags": []
          },
          "execution_count": 9
        }
      ]
    },
    {
      "cell_type": "code",
      "metadata": {
        "id": "xtCI8aOK4UsF"
      },
      "source": [
        "x_train, x_test, y_train, y_test = model_selection.train_test_split(x,y,test_size=0.7,random_state=0)"
      ],
      "execution_count": null,
      "outputs": []
    },
    {
      "cell_type": "code",
      "metadata": {
        "id": "MxEbTJ_e4pO_"
      },
      "source": [
        "clf_ob=svm.SVC(kernel='linear', C=1).fit(x_train, y_train)"
      ],
      "execution_count": null,
      "outputs": []
    },
    {
      "cell_type": "code",
      "metadata": {
        "id": "zMReq5iWAk3X"
      },
      "source": [
        "y_pred=clf_ob.predict(x_test)"
      ],
      "execution_count": null,
      "outputs": []
    },
    {
      "cell_type": "code",
      "metadata": {
        "id": "abKI-lVrDe7A",
        "colab": {
          "base_uri": "https://localhost:8080/"
        },
        "outputId": "dd807a3d-8186-4f47-af6d-90329dacb1d7"
      },
      "source": [
        "print(accuracy_score(y_pred, y_test))"
      ],
      "execution_count": null,
      "outputs": [
        {
          "output_type": "stream",
          "text": [
            "0.9105771428571429\n"
          ],
          "name": "stdout"
        }
      ]
    },
    {
      "cell_type": "markdown",
      "metadata": {
        "id": "81Tho_fyYXut"
      },
      "source": [
        "**Sampled** **Dataset**\n",
        "\n",
        "\n",
        "*   ....\n",
        "*   ...."
      ]
    },
    {
      "cell_type": "code",
      "metadata": {
        "id": "8WznzDLNYRYy"
      },
      "source": [
        "data = pd.read_csv(\"sampledddos.csv\", usecols=features, dtype=dtypes, parse_dates=date_columns, index_col=None)"
      ],
      "execution_count": null,
      "outputs": []
    },
    {
      "cell_type": "code",
      "metadata": {
        "colab": {
          "base_uri": "https://localhost:8080/"
        },
        "id": "J9Rdy9K7YcI1",
        "outputId": "0f243b16-f777-4884-c00d-8958bbebfeeb"
      },
      "source": [
        "data['PKT_CLASS'].value_counts()"
      ],
      "execution_count": null,
      "outputs": [
        {
          "output_type": "execute_result",
          "data": {
            "text/plain": [
              "SIDDOS        900\n",
              "Normal        900\n",
              "HTTP-FLOOD    900\n",
              "UDP-Flood     900\n",
              "Smurf         900\n",
              "Name: PKT_CLASS, dtype: int64"
            ]
          },
          "metadata": {
            "tags": []
          },
          "execution_count": 15
        }
      ]
    },
    {
      "cell_type": "code",
      "metadata": {
        "id": "jg49QuFSYe8_"
      },
      "source": [
        "data2 = data.sort_values(\"Timestamp\")\n",
        "data3 = data2.drop(columns=[\"Timestamp\"])"
      ],
      "execution_count": null,
      "outputs": []
    },
    {
      "cell_type": "code",
      "metadata": {
        "id": "92LnFAYMYinp"
      },
      "source": [
        "ys=data3.loc[:, ['NUMBER_OF_PKT']].values.ravel()"
      ],
      "execution_count": null,
      "outputs": []
    },
    {
      "cell_type": "code",
      "metadata": {
        "id": "02riuFpIYsTU"
      },
      "source": [
        "xs=data3.loc[:, ['PKT_RATE']].values"
      ],
      "execution_count": null,
      "outputs": []
    },
    {
      "cell_type": "code",
      "metadata": {
        "id": "tt0oS2oYYuhK"
      },
      "source": [
        "xs_train, xs_test, ys_train, ys_test = model_selection.train_test_split(xs,ys,test_size=0.7,random_state=0)"
      ],
      "execution_count": null,
      "outputs": []
    },
    {
      "cell_type": "code",
      "metadata": {
        "id": "mO5zh_6kYwmh"
      },
      "source": [
        "clf_obs=svm.SVC(kernel='linear', C=1).fit(xs_train, ys_train)"
      ],
      "execution_count": null,
      "outputs": []
    },
    {
      "cell_type": "code",
      "metadata": {
        "id": "JAZ2819rYyMj"
      },
      "source": [
        "ys_pred=clf_obs.predict(xs_test)"
      ],
      "execution_count": null,
      "outputs": []
    },
    {
      "cell_type": "code",
      "metadata": {
        "colab": {
          "base_uri": "https://localhost:8080/"
        },
        "id": "2wKyLspTYzZ-",
        "outputId": "06079d3e-08f3-4b15-d0eb-426d7094631c"
      },
      "source": [
        "print(accuracy_score(ys_pred, ys_test))"
      ],
      "execution_count": null,
      "outputs": [
        {
          "output_type": "stream",
          "text": [
            "0.926984126984127\n"
          ],
          "name": "stdout"
        }
      ]
    }
  ]
}